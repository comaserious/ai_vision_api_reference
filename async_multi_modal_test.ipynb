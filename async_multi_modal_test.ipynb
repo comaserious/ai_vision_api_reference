{
 "cells": [
  {
   "cell_type": "code",
   "execution_count": 2,
   "metadata": {},
   "outputs": [],
   "source": [
    "from openai import AsyncOpenAI\n",
    "from anthropic import AsyncAnthropic\n",
    "from google.genai import types\n",
    "from google import genai\n",
    "from mistralai import Mistral\n",
    "\n",
    "from dotenv import load_dotenv\n",
    "\n",
    "import base64, os"
   ]
  },
  {
   "cell_type": "code",
   "execution_count": 3,
   "metadata": {},
   "outputs": [],
   "source": [
    "image_path = \"C:\\\\test_test\\\\response_rate_of_image_description\\\\data\\\\table_test.png\"\n",
    "\n",
    "from pydantic import BaseModel, Field\n",
    "\n",
    "class ImageDescription(BaseModel):\n",
    "    category : str = Field(description = \"이미지의 카테고리. 4가지 카테고리 : ['figure', 'chart', 'table', 'equation']\")\n",
    "    description : str = Field(description = \"Describe image in detail\")\n",
    "\n",
    "def encode_image(image_path : str):\n",
    "    with open(image_path, \"rb\") as image_file:\n",
    "        return base64.b64encode(image_file.read()).decode('utf-8')\n",
    "    \n",
    "base64_image = encode_image(image_path)\n"
   ]
  },
  {
   "cell_type": "code",
   "execution_count": null,
   "metadata": {},
   "outputs": [],
   "source": [
    "client = AsyncOpenAI()\n",
    "\n",
    "ext = os.path.splitext(image_path)[1].replace('.','')\n",
    "\n",
    "message_list = [\n",
    "        {\n",
    "            \"role\": \"user\",\n",
    "            \"content\": [\n",
    "                {\n",
    "                    \"type\": \"input_text\",\n",
    "                    \"text\": \"주어진 이미지를 분석하세요. 이미지 종류('figure', 'chart', 'table', 'equation')와 설명을 반환하세요. 표의 경우 담겨있는 정보를 생략하지 말고 전부 일목요연하게 제공하세요. 설명의 경우 마크다운으로 작성하세요요\"\n",
    "                },\n",
    "                {\n",
    "                    \"type\": \"input_image\",\n",
    "                    \"image_url\": f\"data:image/{ext};base64,{base64_image}\",\n",
    "                    \"detail\": \"high\"\n",
    "                }\n",
    "            ]\n",
    "        }\n",
    "    ]"
   ]
  }
 ],
 "metadata": {
  "kernelspec": {
   "display_name": "graph-module",
   "language": "python",
   "name": "python3"
  },
  "language_info": {
   "codemirror_mode": {
    "name": "ipython",
    "version": 3
   },
   "file_extension": ".py",
   "mimetype": "text/x-python",
   "name": "python",
   "nbconvert_exporter": "python",
   "pygments_lexer": "ipython3",
   "version": "3.11.11"
  }
 },
 "nbformat": 4,
 "nbformat_minor": 2
}
